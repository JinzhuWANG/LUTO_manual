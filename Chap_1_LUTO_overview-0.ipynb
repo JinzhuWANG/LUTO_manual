{
 "cells": [
  {
   "attachments": {},
   "cell_type": "markdown",
   "metadata": {},
   "source": [
    "# User's Manual for Land-Use Trade-Offs II model"
   ]
  },
  {
   "cell_type": "code",
   "execution_count": null,
   "metadata": {},
   "outputs": [],
   "source": []
  },
  {
   "attachments": {},
   "cell_type": "markdown",
   "metadata": {},
   "source": [
    "LUTO-2 (hereafter referred to as LUTO) is version two of the Land-Use Trade-Offs model. The model is an agricultural model comprised by 4 parts: 1) Land-use map, 2) Productivity maps, and 3) Resources (water, monetary, biodiversity) consumption maps and 4) an optimizer. LUTO predicts future spatial land-use distributions based on an economic cost-minimisation or profit-maximization logic under various constraints. "
   ]
  },
  {
   "attachments": {},
   "cell_type": "markdown",
   "metadata": {},
   "source": [
    "The optimization process can be primarily divided into 3 steps:\n",
    "1) Find the solutions that meet the demand<br>\n",
    "    `Land-use map` * `Productivity map` >= `Demand`\n",
    "2) Find the solutions that meet the environmental constraints<br>\n",
    "    `Land-use map` * `Resource requirement map` <= `Constraint`\n",
    "3) Maximize profit (or minimize cost) to get the optimal solution<br>\n",
    "    `Best solution` = `Maximize(Revenue - Cost)` or `Minimize(Cost)`"
   ]
  },
  {
   "attachments": {},
   "cell_type": "markdown",
   "metadata": {},
   "source": [
    "LUTO is designed as a policy tool to answer 'what-if' questions under major climate change and socio-ecnomicy pathways, as well as Australia's national context. The `Demand` is sourced from external modelling considering Australia's imports, exports, diets, et cetera; the `productivity map` is driven by different climate change predictions; and the `resource requirement map` is acquired through paper review and stakeholder collaborations. Users can specify their assumptions by choosing parameters in the `settings.py` file. "
   ]
  },
  {
   "attachments": {},
   "cell_type": "markdown",
   "metadata": {},
   "source": [
    "As an highly optimized model, LUTO rearranges all the input data from 2D-map format into a 1D-array representation to save memory and reduce running time, making it difficult for users to intuitively understand what happened within each process. This manual converts the 1D array back to its original 2D format and visualize the process of arranging land-use map to meet demand targets under water, GHG, and biodiversity constraints."
   ]
  },
  {
   "cell_type": "code",
   "execution_count": null,
   "metadata": {},
   "outputs": [],
   "source": []
  },
  {
   "attachments": {},
   "cell_type": "markdown",
   "metadata": {},
   "source": [
    "```{note}\n",
    "LUTO-2 is capable of running land-use change for Australia at a ~1x1 square kilometer scale, but this chapter will use a setting that specifies `RESFACTOR=5` to reduce processing time. Essentially, this resfactor means we are only using the centroid cell out of each 5*5 square matrix to run the model.\n",
    "```"
   ]
  },
  {
   "cell_type": "code",
   "execution_count": null,
   "metadata": {},
   "outputs": [],
   "source": []
  },
  {
   "attachments": {},
   "cell_type": "markdown",
   "metadata": {},
   "source": [
    "Before entering the amazing LUTO world, please keep in mind that this manual tries to explain how LUTO works in the most intuitive way. That means sometimes we may lose technical depth or skip over certain complexities. If you are keen to understand how exactly this model works, we encourage you to look at the source code and delve into the tech/data manual provided under the `/docs`. "
   ]
  },
  {
   "cell_type": "code",
   "execution_count": null,
   "metadata": {},
   "outputs": [],
   "source": []
  },
  {
   "cell_type": "code",
   "execution_count": null,
   "metadata": {},
   "outputs": [],
   "source": []
  },
  {
   "cell_type": "code",
   "execution_count": 1,
   "metadata": {
    "tags": [
     "remove-cell"
    ]
   },
   "outputs": [
    {
     "name": "stdout",
     "output_type": "stream",
     "text": [
      "2024-08-27 14:32:42 -   50   8.50388783e+06 -1.40872169e+07  2.98e-02 5.59e-01  2.79e+00   143s\n",
      "2024-08-27 14:32:45 -   51   6.99795339e+06 -1.09230926e+07  1.91e-02 4.56e-01  2.21e+00   146s\n",
      "2024-08-27 14:32:49 -   52   5.78298052e+06 -8.53857867e+06  1.18e-02 3.74e-01  1.77e+00   149s\n",
      "2024-08-27 14:32:52 -   53   4.85860524e+06 -6.93354449e+06  7.00e-03 3.11e-01  1.46e+00   152s\n",
      "2024-08-27 14:32:55 -   54   4.41045741e+06 -5.59407781e+06  4.83e-03 2.62e-01  1.24e+00   156s\n",
      "2024-08-27 14:32:58 -   55   4.17602830e+06 -4.67688910e+06  3.73e-03 2.24e-01  1.09e+00   158s\n",
      "2024-08-27 14:33:01 -   56   3.88201837e+06 -3.98822283e+06  2.26e-03 1.95e-01  9.70e-01   161s\n",
      "2024-08-27 14:33:04 -   57   3.55255348e+06 -3.01164350e+06  4.17e-04 1.45e-01  8.05e-01   165s\n",
      "2024-08-27 14:33:07 -   58   3.09636051e+06 -2.52427642e+06  2.52e-04 1.25e-01  6.89e-01   168s\n",
      "2024-08-27 14:33:12 -   59   2.60082251e+06 -2.28742018e+06  2.01e-04 1.15e-01  6.01e-01   172s\n",
      "2024-08-27 14:33:16 -   60   2.40119914e+06 -1.99494010e+06  1.82e-04 1.03e-01  5.40e-01   177s\n",
      "2024-08-27 14:33:20 -   61   1.86205654e+06 -1.64895312e+06  1.32e-04 8.63e-02  4.33e-01   181s\n",
      "2024-08-27 14:33:24 -   62   1.69582837e+06 -1.50533093e+06  1.17e-04 8.00e-02  3.95e-01   185s\n",
      "2024-08-27 14:33:28 -   63   1.51219486e+06 -1.22256847e+06  1.02e-04 6.73e-02  3.37e-01   189s\n",
      "2024-08-27 14:33:32 -   64   1.43698806e+06 -1.15599523e+06  9.59e-05 6.39e-02  3.20e-01   193s\n",
      "2024-08-27 14:33:37 -   65   1.36528430e+06 -1.13329435e+06  9.02e-05 6.29e-02  3.08e-01   197s\n",
      "2024-08-27 14:33:40 -   66   1.21563439e+06 -1.03192947e+06  7.85e-05 5.96e-02  2.78e-01   201s\n",
      "2024-08-27 14:33:44 -   67   1.10405447e+06 -9.04366258e+05  7.01e-05 5.24e-02  2.48e-01   205s\n",
      "2024-08-27 14:33:47 -   68   1.07956871e+06 -8.26103422e+05  6.83e-05 4.85e-02  2.35e-01   208s\n",
      "2024-08-27 14:33:51 -   69   7.96173120e+05 -7.29887602e+05  4.74e-05 4.39e-02  1.90e-01   212s\n",
      "2024-08-27 14:33:56 -   70   7.63273424e+05 -5.87542321e+05  4.52e-05 3.58e-02  1.67e-01   217s\n",
      "2024-08-27 14:34:00 -   71   5.79063037e+05 -4.69660501e+05  3.24e-05 3.14e-02  1.30e-01   221s\n",
      "2024-08-27 14:34:04 -   72   4.52520675e+05 -3.44248429e+05  2.38e-05 2.35e-02  9.92e-02   225s\n",
      "2024-08-27 14:34:09 -   73   3.33571465e+05 -2.51817913e+05  1.61e-05 1.82e-02  7.32e-02   230s\n",
      "2024-08-27 14:34:13 -   74   3.02601937e+05 -1.76740439e+05  1.41e-05 1.41e-02  5.97e-02   234s\n",
      "2024-08-27 14:34:17 -   75   2.67082021e+05 -1.26223119e+05  1.18e-05 1.13e-02  4.89e-02   238s\n",
      "2024-08-27 14:34:22 -   76   2.35868299e+05 -8.91058470e+04  9.85e-06 9.25e-03  4.04e-02   242s\n",
      "2024-08-27 14:34:26 -   77   1.88259421e+05 -4.63509570e+04  6.93e-06 6.85e-03  2.92e-02   246s\n",
      "2024-08-27 14:34:30 -   78   1.57570026e+05 -2.19165655e+04  5.07e-06 5.80e-03  2.24e-02   250s\n",
      "2024-08-27 14:34:34 -   79   1.36955204e+05 -7.30048987e+02  3.85e-06 4.30e-03  1.72e-02   254s\n",
      "2024-08-27 14:34:38 -   80   1.16444774e+05  2.20848271e+04  2.63e-06 2.95e-03  1.18e-02   258s\n",
      "2024-08-27 14:34:42 -   81   1.05340308e+05  3.25746665e+04  1.96e-06 2.37e-03  9.13e-03   262s\n",
      "2024-08-27 14:34:46 -   82   9.50219846e+04  4.26851951e+04  1.36e-06 1.85e-03  6.58e-03   266s\n",
      "2024-08-27 14:34:50 -   83   8.87935173e+04  4.87921477e+04  9.93e-07 1.48e-03  5.05e-03   270s\n",
      "2024-08-27 14:34:54 -   84   8.49529798e+04  5.71684257e+04  7.49e-07 9.47e-04  3.49e-03   274s\n",
      "2024-08-27 14:34:58 -   85   7.99846932e+04  6.10632880e+04  6.16e-07 6.85e-04  2.39e-03   278s\n",
      "2024-08-27 14:35:02 -   86   7.75360543e+04  6.44967812e+04  7.10e-07 4.60e-04  1.65e-03   282s\n",
      "2024-08-27 14:35:06 -   87   7.57680737e+04  6.69971128e+04  6.89e-07 3.07e-04  1.10e-03   286s\n",
      "2024-08-27 14:35:10 -   88   7.39432463e+04  6.84402272e+04  5.39e-07 2.00e-04  6.96e-04   291s\n",
      "2024-08-27 14:35:14 -   89   7.30429211e+04  6.87983456e+04  3.45e-07 1.78e-04  5.43e-04   295s\n",
      "2024-08-27 14:35:18 -   90   7.25573232e+04  6.97708468e+04  2.45e-07 1.14e-04  3.56e-04   299s\n",
      "2024-08-27 14:35:22 -   91   7.20698819e+04  7.05163301e+04  2.08e-07 6.24e-05  1.98e-04   302s\n",
      "2024-08-27 14:35:26 -   92   7.18293506e+04  7.09191968e+04  1.38e-07 3.65e-05  1.16e-04   306s\n",
      "2024-08-27 14:35:29 -   93   7.16959252e+04  7.12898291e+04  1.01e-07 8.85e-06  4.97e-05   310s\n",
      "2024-08-27 14:35:32 -   94   7.15659096e+04  7.13498476e+04  6.13e-08 4.57e-06  2.64e-05   313s\n",
      "2024-08-27 14:35:36 -   95   7.15087424e+04  7.13901404e+04  3.81e-08 1.72e-06  1.43e-05   316s\n",
      "2024-08-27 14:35:39 -   96   7.14897819e+04  7.14034688e+04  3.31e-08 7.09e-07  1.02e-05   320s\n",
      "2024-08-27 14:35:43 -   97   7.14502604e+04  7.14061505e+04  1.36e-08 5.36e-07  5.28e-06   324s\n",
      "2024-08-27 14:35:46 -   98   7.14256153e+04  7.14108537e+04  4.39e-09 2.01e-07  1.77e-06   327s\n",
      "2024-08-27 14:35:50 -   99   7.14219829e+04  7.14126200e+04  4.61e-08 7.21e-08  1.11e-06   330s\n",
      "2024-08-27 14:35:53 -  100   7.14175721e+04  7.14134429e+04  2.18e-08 1.29e-08  4.84e-07   333s\n",
      "2024-08-27 14:35:57 -  101   7.14174998e+04  7.14134448e+04  4.58e-06 2.24e-08  4.75e-07   337s\n",
      "2024-08-27 14:36:01 -  102   7.14148372e+04  7.14136025e+04  1.45e-06 1.65e-08  1.44e-07   342s\n",
      "2024-08-27 14:36:06 -  103   7.14144980e+04  7.14136140e+04  1.19e-06 1.71e-08  1.03e-07   347s\n",
      "2024-08-27 14:36:12 -  104   7.14140357e+04  7.14136406e+04  4.37e-06 1.11e-08  4.63e-08   352s\n",
      "\n",
      "2024-08-27 14:36:12 - Barrier solved model in 104 iterations and 352.12 seconds (225.83 work units)\n",
      "2024-08-27 14:36:12 - Optimal objective 7.14140357e+04\n",
      "\n",
      "2024-08-27 14:36:12 - Completed solve, collecting results...\n",
      "\n",
      "2024-08-27 14:37:18 - Reproject decision variables...\n",
      "2024-08-27 14:38:14 - Processing for 2050 completed in 816 seconds\n",
      "\n",
      "\n"
     ]
    }
   ],
   "source": [
    "# REMOVE\n",
    "\n",
    "'''\n",
    "Here are the code to run LUTO first, so that we can have the variables and objects required for illustration in the notebook.\n",
    "'''\n",
    "\n",
    "# Reload all modules before excuting each cell, so that we can modify the imported custom functions on-the-fly without rerun the whole model.\n",
    "%load_ext autoreload\n",
    "%autoreload 2\n",
    "\n",
    "# Imports\n",
    "import os\n",
    "import h5py           \n",
    "import netCDF4  \n",
    "from lxml import etree\n",
    "\n",
    "import xarray as xr\n",
    "import numpy as np\n",
    "import pandas as pd\n",
    "import matplotlib.pyplot as plt\n",
    "import plotnine as p9\n",
    "import geopandas as gpd\n",
    "\n",
    "from rasterstats import zonal_stats\n",
    "from itertools import product\n",
    "from tqdm.auto import tqdm\n",
    "\n",
    "\n",
    "# cd to the root folder of LUTO project\n",
    "os.chdir('N:/LUF-Modelling/LUTO2_JZ/luto-2.0')\n",
    "from luto.tools.Manual_jupyter_books.helpers import map_to_4band, mrj_to_xr, arr_to_xr, map_to_plot\n",
    "from luto.economics.agricultural.quantity import get_quantity_matrices\n",
    "from luto.economics.agricultural.water import get_wreq_matrices\n",
    "from luto.tools.Manual_jupyter_books.helpers.parameters import legend_params\n",
    "\n",
    "\n",
    "# # Run LUTO\n",
    "# import luto.simulation as sim\n",
    "# data = sim.load_data()\n",
    "# sim.run(data=data, base=2010, target=2050)"
   ]
  },
  {
   "cell_type": "code",
   "execution_count": null,
   "metadata": {},
   "outputs": [],
   "source": []
  },
  {
   "cell_type": "code",
   "execution_count": null,
   "metadata": {},
   "outputs": [],
   "source": []
  }
 ],
 "metadata": {
  "kernelspec": {
   "display_name": "Python 3",
   "language": "python",
   "name": "python3"
  },
  "language_info": {
   "codemirror_mode": {
    "name": "ipython",
    "version": 3
   },
   "file_extension": ".py",
   "mimetype": "text/x-python",
   "name": "python",
   "nbconvert_exporter": "python",
   "pygments_lexer": "ipython3",
   "version": "3.12.3"
  }
 },
 "nbformat": 4,
 "nbformat_minor": 2
}
